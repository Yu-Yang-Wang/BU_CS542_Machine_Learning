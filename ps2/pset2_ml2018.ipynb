{
 "cells": [
  {
   "cell_type": "markdown",
   "metadata": {},
   "source": [
    "# Problem Set 2: Classification\n",
    "\n",
    "To run and solve this assignment, one must have a working IPython Notebook installation. The easiest way to set it up for both Windows and Linux is to install [Anaconda](https://www.continuum.io/downloads). Then save this file to your computer (use \"Raw\" link on gist\\github), run Anaconda and choose this file in Anaconda's file explorer. Use `Python 3` version. Below statements assume that you have already followed these instructions. If you are new to Python or its scientific library, Numpy, there are some nice tutorials [here](https://www.learnpython.org/) and [here](http://www.scipy-lectures.org/).\n",
    "\n",
    "To run code in a cell or to render [Markdown](https://en.wikipedia.org/wiki/Markdown)+[LaTeX](https://en.wikipedia.org/wiki/LaTeX) press `Ctr+Enter` or `[>|]`(like \"play\") button above. To edit any code or text cell [double]click on its content. To change cell type, choose \"Markdown\" or \"Code\" in the drop-down menu above.\n",
    "\n",
    "If a certain output is given for some cells, that means that you are expected to get similar results in order to receive full points (small deviations are fine). For some parts we have already written the code for you. You should read it closely and understand what it does.\n",
    "\n",
    "Total: 100 points."
   ]
  },
  {
   "cell_type": "markdown",
   "metadata": {},
   "source": [
    "### 1. Logistic Regression\n",
    "\n",
    "In this part of the exercise, you will build a logistic regression model to predict whether a student\n",
    "gets admitted into a university.\n",
    "\n",
    "Suppose that you are the administrator of a university department and you want to determine\n",
    "each applicant’s chance of admission based on their results on two exams. You have historical\n",
    "data from previous applicants in *ex2data1.txt* that you can use as a training set for logistic regression. For each\n",
    "training example, you have the applicant’s scores on two exams and the admissions decision.\n",
    "\n",
    "Your task is to build a classification model that estimates an applicant’s probability of admission based on the scores from those two exams. This outline and code framework will guide you through the exercise.\n",
    "\n",
    "**1\\.1 Implementation**"
   ]
  },
  {
   "cell_type": "code",
   "execution_count": 1,
   "metadata": {},
   "outputs": [
    {
     "name": "stdout",
     "output_type": "stream",
     "text": [
      "Tested with:\n",
      "Python 3.6.5 |Anaconda, Inc.| (default, Mar 29 2018, 13:32:41) [MSC v.1900 64 bit (AMD64)]\n",
      "{'numpy': '1.14.3', 'matplotlib': '2.2.2'}\n"
     ]
    }
   ],
   "source": [
    "import sys\n",
    "import numpy as np\n",
    "import matplotlib\n",
    "import matplotlib.pyplot as plt\n",
    "print('Tested with:')\n",
    "print('Python', sys.version)\n",
    "print({x.__name__: x.__version__ for x in [np, matplotlib]})"
   ]
  },
  {
   "cell_type": "markdown",
   "metadata": {},
   "source": [
    "**1.1.1 Visualizing the data**\n",
    "\n",
    "Before starting to implement any learning algorithm, it is always good to visualize the data if possible. This first part of the code will load the data and display it on a 2-dimensional plot by calling the function plotData. The axes are the two exam scores, and the positive and negative examples are shown with different markers."
   ]
  },
  {
   "cell_type": "code",
   "execution_count": 2,
   "metadata": {},
   "outputs": [
    {
     "name": "stdout",
     "output_type": "stream",
     "text": [
      "(100, 2) 30.05882244669796 99.82785779692128 float64\n",
      "(100, 1) 0.0 1.0 float64\n",
      "-------------------------\n",
      "(100, 3) 1.0 99.82785779692128 float64\n",
      "(100, 1) 0 1 int32\n"
     ]
    }
   ],
   "source": [
    "# it is good to isolate logical parts to avoid variables leaking into the\n",
    "# global scope and messing up your logic later in weird ways\n",
    "\n",
    "def read_classification_csv_data(fn, add_ones=False):\n",
    "    # read comma separated data\n",
    "    data = np.loadtxt(fn, delimiter=',')\n",
    "    X_, y_ = data[:, :-1], data[:, -1, None]  # a fast way to keep last dim\n",
    "    # while X_ is a (100,2) matrix and y_ is the label\n",
    "\n",
    "    print(X_.shape, X_.min(), X_.max(), X_.dtype)\n",
    "    print(y_.shape, y_.min(), y_.max(), y_.dtype)\n",
    "    print(\"-------------------------\")\n",
    "    \n",
    "    # insert the column of 1's into the \"X\" matrix (for bias)\n",
    "    X = np.insert(X_, X_.shape[1], 1, axis=1) if add_ones else X_\n",
    "    y = y_.astype(np.int32) # set the label to int\n",
    "    return X, y\n",
    "    \n",
    "X_data, y_data = read_classification_csv_data('ex2data1.txt', add_ones=True)\n",
    "print(X_data.shape, X_data.min(), X_data.max(), X_data.dtype)\n",
    "print(y_data.shape, y_data.min(), y_data.max(), y_data.dtype)"
   ]
  },
  {
   "cell_type": "code",
   "execution_count": 3,
   "metadata": {},
   "outputs": [
    {
     "data": {
      "image/png": "[encoded data removed]",
      "text/plain": [
       "<Figure size 720x432 with 1 Axes>"
      ]
     },
     "metadata": {},
     "output_type": "display_data"
    }
   ],
   "source": [
    "# how does the *X[y.ravel()==1, :2].T trick work?\n",
    "# https://docs.python.org/3/tutorial/controlflow.html#unpacking-argument-lists\n",
    "\n",
    "def plot_data(X, y, labels, markers, xlabel, ylabel, figsize=(10, 6), ax=None):\n",
    "    if figsize is not None:\n",
    "        plt.figure(figsize=figsize)\n",
    "\n",
    "    ax = ax or plt.gca()\n",
    "    for label_id, (label, marker) in enumerate(zip(labels, markers)):        \n",
    "        ax.plot(*X_data[y_data.ravel()==label_id, :2].T, marker, label=label)\n",
    "    ax.set_xlabel(xlabel)\n",
    "    ax.set_ylabel(ylabel)\n",
    "    plt.legend()\n",
    "    ax.grid(True)\n",
    "    \n",
    "student_plotting_spec = {\n",
    "    'X': X_data,\n",
    "    'y': y_data, \n",
    "    'xlabel': 'Exam 1 score', \n",
    "    'ylabel': 'Exam 2 score',\n",
    "    'labels': ['Not admitted', 'Admitted'], \n",
    "    'markers': ['yo', 'k+'], \n",
    "    'figsize': (10, 6)\n",
    "}\n",
    "    \n",
    "plot_data(**student_plotting_spec)\n",
    "plt.show()"
   ]
  },
  {
   "cell_type": "markdown",
   "metadata": {},
   "source": [
    "**1.1.2 [5pts] Sigmoid function** \n",
    "\n",
    "Before you start with the actual cost function, recall that the logistic regression hypothesis is defined as:\n",
    "\n",
    "$h_\\theta(x) = g(\\theta^Tx)$\n",
    "\n",
    "where function g is the sigmoid function. The sigmoid function is defined as:\n",
    "\n",
    "$g(z) = \\dfrac{1}{1+e^{-z}}$\n",
    "\n",
    "Your first step is to implement/find a sigmoid function so it can be called by the rest of your program. Your code should also work with vectors and matrices. For a matrix, your function should perform the sigmoid function on every element. \n",
    "\n",
    "When you are finished, (a) plot the sigmoid function, and (b) test the function with a scalar, a vector, and a matrix. For scalar large positive values of x, the sigmoid should be close to 1, while for scalar large negative values, the sigmoid should be close to 0. Evaluating sigmoid(0) should give you exactly 0.5."
   ]
  },
  {
   "cell_type": "code",
   "execution_count": 4,
   "metadata": {},
   "outputs": [
    {
     "data": {
      "image/png": "[encoded data removed]",
      "text/plain": [
       "<Figure size 432x288 with 1 Axes>"
      ]
     },
     "metadata": {},
     "output_type": "display_data"
    },
    {
     "name": "stdout",
     "output_type": "stream",
     "text": [
      "(50,) (49,)\n"
     ]
    },
    {
     "data": {
      "image/png": "[encoded data removed]",
      "text/plain": [
       "<Figure size 432x288 with 1 Axes>"
      ]
     },
     "metadata": {},
     "output_type": "display_data"
    }
   ],
   "source": [
    "# check out scipy.special for great variaty of vectorized functions\n",
    "# remember that sigmoid is the inverse of logit function\n",
    "# maybe worth checking out scipy.special.logit first\n",
    "\n",
    "def sigmoid(z):\n",
    "    sigmoid = 1./(1+np.exp(-z))\n",
    "    return sigmoid\n",
    "#sigmoid = None\n",
    "\n",
    "def check_that_sigmoid_f(f):\n",
    "    # don't use np.arange with float step because it works as\n",
    "    # val_{i+1} = val_i + step while val_i < end\n",
    "    # what might do wrong with float precision?\n",
    "    x_test = np.linspace(-10, 10, 50)\n",
    "    sigm_test = f(x_test)\n",
    "    plt.plot(x_test, sigm_test)\n",
    "    plt.title(\"Sigmoid function\")\n",
    "    plt.grid(True)\n",
    "    plt.show()\n",
    "    \n",
    "    # why should analytical_diff almost== finite_diff for sigmoid?\n",
    "    analytical_diff = sigm_test*(1-sigm_test)\n",
    "    finite_step = x_test[1]-x_test[0]\n",
    "    finite_diff = np.diff(sigm_test) / finite_step\n",
    "    print(x_test.shape, finite_diff.shape)\n",
    "    plt.plot(x_test[:-1]+finite_step/2, finite_diff)\n",
    "    plt.plot(x_test, analytical_diff)\n",
    "    plt.title(\"Numerical (finite difference) derivative of 1d sigmoid\")\n",
    "    plt.grid(True)\n",
    "    plt.show()\n",
    "    \n",
    "    \n",
    "check_that_sigmoid_f(sigmoid)"
   ]
  },
  {
   "cell_type": "markdown",
   "metadata": {},
   "source": [
    "**1.1.3 [15pts] Cost function and gradient**\n",
    "\n",
    "Now you will implement the cost function and gradient for logistic regression. Complete the code\n",
    "in the functions *hyposesis_function* and *binary_logistic_loss* below to return the value of the hypothesis function and the cost, respectively. Recall that the cost function in logistic regression is\n",
    "\n",
    "$j(\\theta) \\ = \\ \\frac{1}{m} \\ \\sum_{i=1}^{m} \\ [ \\ -y^{(i)} log(h_\\theta(x^{(i)})) \\ - \\ (1 - y^{(i)})log(1-h_\\theta(x^{(i)})) \\ ]$\n",
    "\n",
    "and the gradient of the cost is a vector of the same length as $\\theta$ where the $j^{th}$ element (for $j = 0, 1,...,n$) is defined as follows:\n",
    "\n",
    "$\\frac{\\partial J(\\theta)}{\\partial \\theta_{j}} \\ = \\ \\frac{1}{m} \\ \\sum_{i=1}^{m} \\ (h_\\theta(x^{(i)})-y^{(i)}) x_j^{(i)}$\n",
    "\n",
    "where $m$ is the number of points and $n$ is the number of features. Note that while this gradient looks identical to the linear regression gradient, the formula is\n",
    "actually different because linear and logistic regression have different definitions of $h_\\theta(x)$.\n",
    "\n",
    "What should be the value of the loss for $\\theta = \\bar 0$ regardless of input? Why? Make sure your code also outputs this value."
   ]
  },
  {
   "cell_type": "code",
   "execution_count": 5,
   "metadata": {},
   "outputs": [],
   "source": [
    "# we are trying to fit a function that would return a \n",
    "# \"probability of \"\n",
    "\n",
    "# hyposesis_function describes parametric family of functions that we are\n",
    "# going to pick our \"best fitting function\" from. It is parameterized by\n",
    "# real-valued vector theta, i.e. we are going to pick\n",
    "#    h_best = argmin_{h \\in H} logistic_loss_h(x, y, h)\n",
    "# but because there exist a bijection between theta's and h's it is \n",
    "# eqvivalent to choosing\n",
    "#    theta_best = argmin_{theta \\in H} logistic_loss_theta(x, y, theta)\n",
    "\n",
    "def hyposesis_function(x, theta):\n",
    "    #raise NotImplementedError('Implement it yourself.')\n",
    "    return sigmoid(np.matmul(x,theta))\n",
    "\n",
    "# negative log likelihood of observing sequence of integer\n",
    "# y's given probabilities y_pred's of each Bernoulli trial\n",
    "# recommentation: convert both variables to float's \n",
    "# or weird sign stuff might happen like -1*y != -y for uint8\n",
    "# use np.mean and broadcasting\n",
    "def binary_logistic_loss(y, y_pred):\n",
    "    assert y_pred.shape == y.shape\n",
    "    #raise NotImplementedError('Implement it yourself.')\n",
    "    #loss = (1/y.shape)*((-y) * np.log(y_pred)-(np.ones-y) * (1-np.log(y_pred)))\n",
    "    #print(y.shape)\n",
    "    loss = (1/y.shape[0])*np.linalg.norm((np.matmul(-y.T,np.log(y_pred))-np.matmul((1-y).T,np.log(1-y_pred))))\n",
    "    return loss\n",
    "    \n",
    "\n",
    "def logistic_loss_theta_grad(x, y, h, theta):\n",
    "    y_pred = h(x, theta)\n",
    "    point_wise_grads = (y_pred - y)*x\n",
    "    grad = np.mean(point_wise_grads, axis=0)[:, None]\n",
    "    assert grad.shape == theta.shape\n",
    "    return grad\n",
    "    \n",
    "\n",
    "def logistic_loss_theta(x, y, h, theta):\n",
    "    return binary_logistic_loss(y, h(x, theta))"
   ]
  },
  {
   "cell_type": "code",
   "execution_count": 6,
   "metadata": {},
   "outputs": [
    {
     "name": "stdout",
     "output_type": "stream",
     "text": [
      "0.6931471805599452\n",
      "[[-12.00921659]\n",
      " [-11.26284221]\n",
      " [ -0.1       ]]\n"
     ]
    }
   ],
   "source": [
    "# Check that with theta as zeros, cost is about 0.693:\n",
    "theta_init = np.zeros((X_data.shape[1], 1))\n",
    "print(logistic_loss_theta(X_data, y_data, hyposesis_function, theta_init))\n",
    "print(logistic_loss_theta_grad(X_data, y_data, hyposesis_function, theta_init))"
   ]
  },
  {
   "cell_type": "markdown",
   "metadata": {},
   "source": [
    "**1.1.4 Learning parameters using *fmin***\n",
    "\n",
    "In the previous assignment, you found the optimal parameters of a linear regression model by\n",
    "implementing gradient descent. You wrote a cost function and calculated its gradient, then took\n",
    "a gradient descent step accordingly. This time, instead of taking gradient descent steps, you will\n",
    "use a scipy.optimize built-in function called *fmin*.\n",
    "\n",
    "The final $\\theta$ value will then be used to plot the\n",
    "decision boundary on the training data, as seen in the figure below."
   ]
  },
  {
   "cell_type": "code",
   "execution_count": 7,
   "metadata": {},
   "outputs": [],
   "source": [
    "import climin\n",
    "from functools import partial"
   ]
  },
  {
   "cell_type": "code",
   "execution_count": 8,
   "metadata": {},
   "outputs": [],
   "source": [
    "def optimize(theta_init, loss, loss_grad, max_iter=10000, print_every=1000, optimizer_fn=None, show=False):\n",
    "    theta = theta_init.copy() \n",
    "    opt_args = (theta, loss_grad)\n",
    "    \n",
    "    if optimizer_fn is None:\n",
    "        optimizer_fn = partial(climin.GradientDescent, step_rate=1e-3, momentum=0.999)\n",
    "\n",
    "    optimizer = optimizer_fn(*opt_args)\n",
    "    \n",
    "    loss_curve = []\n",
    "    for opt_info in optimizer:\n",
    "        n_iter = opt_info['n_iter']\n",
    "        f_value = loss(theta)\n",
    "        loss_curve.append(f_value)\n",
    "\n",
    "        if print_every != 0 and n_iter % print_every == 0:\n",
    "            print(n_iter, f_value)\n",
    "\n",
    "        if n_iter == max_iter:\n",
    "            break\n",
    "    \n",
    "    if show:\n",
    "        plt.plot(loss_curve)\n",
    "        plt.show()\n",
    "    \n",
    "    return theta, f_value"
   ]
  },
  {
   "cell_type": "code",
   "execution_count": 9,
   "metadata": {},
   "outputs": [
    {
     "name": "stdout",
     "output_type": "stream",
     "text": [
      "1000 0.23235492534490954\n",
      "2000 0.20707436313672026\n",
      "3000 0.20892645351895361\n",
      "4000 0.20969077333394062\n",
      "5000 0.20887886801989006\n",
      "6000 0.20707752314457167\n",
      "7000 0.20570984825360505\n",
      "8000 0.2047598627173496\n",
      "9000 0.20415401062681077\n",
      "10000 0.20381418595046077\n"
     ]
    },
    {
     "data": {
      "image/png": "[encoded data removed]",
      "text/plain": [
       "<Figure size 432x288 with 1 Axes>"
      ]
     },
     "metadata": {},
     "output_type": "display_data"
    },
    {
     "name": "stdout",
     "output_type": "stream",
     "text": [
      "0.20381418595046077\n"
     ]
    }
   ],
   "source": [
    "theta_init = np.zeros((3, 1))\n",
    "loss = partial(logistic_loss_theta, X_data, y_data, hyposesis_function)\n",
    "loss_grad = partial(logistic_loss_theta_grad, X_data, y_data, hyposesis_function)\n",
    "theta, best_cost = optimize(theta_init, loss, loss_grad, show=True)\n",
    "print(best_cost)"
   ]
  },
  {
   "cell_type": "code",
   "execution_count": 10,
   "metadata": {},
   "outputs": [
    {
     "data": {
      "image/png": "[encoded data removed]",
      "text/plain": [
       "<Figure size 720x432 with 1 Axes>"
      ]
     },
     "metadata": {},
     "output_type": "display_data"
    }
   ],
   "source": [
    "# Plotting the decision boundary: two points, draw a line between\n",
    "# Decision boundary occurs when h = 0, or when\n",
    "# theta_0*x1 + theta_1*x2 + theta_2 = 0\n",
    "# y=mx+b is replaced by x2 = (-1/theta1)(theta2 + theta0*x1)\n",
    "\n",
    "line_xs = np.array([np.min(X_data[:,0]), np.max(X_data[:,0])])\n",
    "line_ys = (-1./theta[1])*(theta[2] + theta[0]*line_xs)\n",
    "plot_data(**student_plotting_spec)\n",
    "plt.plot(line_xs, line_ys, 'b-', lw=10, alpha=0.2, label='Decision Boundary')\n",
    "plt.legend()\n",
    "plt.show()"
   ]
  },
  {
   "cell_type": "markdown",
   "metadata": {},
   "source": [
    "**1.1.5 [15pts] Evaluating logistic regression**\n",
    "\n",
    "After learning the parameters, you can use the model to predict whether a particular student will\n",
    "be admitted. \n",
    "\n",
    "(a) [5 pts] Show that for a student with an Exam 1 score of 45 and an Exam 2 score of 85, you should\n",
    "expect to see an admission probability of 0.776.\n",
    "\n",
    "Another way to evaluate the quality of the parameters we have found is to see how well the\n",
    "learned model predicts on our training set. \n",
    "\n",
    "(b) [10 pts] In this part, your task is to complete the code in\n",
    "*makePrediction*. The predict function will produce “1” or “0” predictions given a dataset and a learned\n",
    "parameter vector $\\theta$. After you have completed the code, the script below will proceed to report the\n",
    "training accuracy of your classifier by computing the percentage of examples it got correct. You\n",
    "should also see a Training Accuracy of 89.0. "
   ]
  },
  {
   "cell_type": "code",
   "execution_count": 11,
   "metadata": {},
   "outputs": [
    {
     "name": "stdout",
     "output_type": "stream",
     "text": [
      "(1, 3)\n",
      "[[0.78755263]]\n"
     ]
    }
   ],
   "source": [
    "# For a student with an Exam 1 score of 45 and an Exam 2 score of 85, \n",
    "# you should expect to see an admission probability of 0.776.\n",
    "check_data = np.array([[45., 85., 1]])\n",
    "print(check_data.shape)\n",
    "print(hyposesis_function(check_data, theta))  \n",
    "# The sigmoid function gives the probability of enrollment, which is from 0 to 1. The theta is trained already by optimize()."
   ]
  },
  {
   "cell_type": "code",
   "execution_count": 12,
   "metadata": {},
   "outputs": [
    {
     "name": "stdout",
     "output_type": "stream",
     "text": [
      "0.9\n"
     ]
    }
   ],
   "source": [
    "# use hyposesis function and broadcast compare operator\n",
    "def predict(x, theta):\n",
    "    #raise NotImplementedError('Implement it yourself.')\n",
    "    hypo = (hyposesis_function(x,theta)> 0.5 ).astype(int)\n",
    "    return hypo\n",
    "\n",
    "def accuracy(x, y, theta):\n",
    "    #raise NotImplementedError('Implement it yourself.')\n",
    "    num = 0\n",
    "    for i in range(y.shape[0]):\n",
    "        if predict(x,theta)[i,:] == y[i,:]:\n",
    "            num += 1\n",
    "    return num/y.shape[0]\n",
    "    \n",
    "print(accuracy(X_data, y_data, theta))\n"
   ]
  },
  {
   "cell_type": "markdown",
   "metadata": {},
   "source": [
    "### 2. Regularized logistic regression\n",
    "\n",
    "In this part of the exercise, you will implement regularized logistic regression to predict whether microchips from a fabrication plant pass quality assurance (QA). During QA, each microchip goes through various tests to ensure it is functioning correctly. Suppose you are the product manager of the factory and you have the test results for some microchips on two different tests. From these two tests, you would like to determine whether the microchips should be accepted or rejected. To help you make the decision, you have a dataset of test results on past microchips in *ex2data2.txt*, from which you can build a logistic regression model."
   ]
  },
  {
   "cell_type": "markdown",
   "metadata": {},
   "source": [
    "**2.1 Visualizing the data**\n",
    "\n",
    "Similar to the previous parts of this exercise, plotData is used to generate the figure below,\n",
    "where the axes are the two test scores, and the positive (y = 1, accepted) and negative (y = 0,\n",
    "rejected) examples are shown with different markers.\n",
    "\n",
    "The figure below shows that our dataset cannot be separated into positive and negative examples by a\n",
    "straight line. Therefore, a straightforward application of logistic regression will not perform well on this dataset since logistic regression will only be able to find a linear decision boundary.\n"
   ]
  },
  {
   "cell_type": "code",
   "execution_count": 13,
   "metadata": {},
   "outputs": [
    {
     "name": "stdout",
     "output_type": "stream",
     "text": [
      "(118, 2) -0.83007 1.1089 float64\n",
      "(118, 1) 0.0 1.0 float64\n",
      "-------------------------\n",
      "(118, 2) -0.9528415593220338 1.0161210915254237 float64\n",
      "(118, 1) 0 1 int32\n"
     ]
    }
   ],
   "source": [
    "X_data_, y_data = read_classification_csv_data('ex2data2.txt')\n",
    "X_data = X_data_ - X_data_.mean(axis=0)[None, :]\n",
    "print(X_data.shape, X_data.min(), X_data.max(), X_data.dtype)\n",
    "print(y_data.shape, y_data.min(), y_data.max(), y_data.dtype)"
   ]
  },
  {
   "cell_type": "code",
   "execution_count": 14,
   "metadata": {},
   "outputs": [
    {
     "data": {
      "image/png": "[encoded data removed]",
      "text/plain": [
       "<Figure size 432x432 with 1 Axes>"
      ]
     },
     "metadata": {},
     "output_type": "display_data"
    }
   ],
   "source": [
    "chip_plotting_spec = {\n",
    "    'X': X_data,\n",
    "    'y': y_data, \n",
    "    'xlabel': 'Microchip Test 1 Result', \n",
    "    'ylabel': 'Microchip Test 2 Result',\n",
    "    'labels': ['rejected', 'accepted'], \n",
    "    'markers': ['yo', 'k+'],\n",
    "    'figsize': (6, 6)\n",
    "}\n",
    "\n",
    "plot_data(**chip_plotting_spec)\n",
    "plt.show()"
   ]
  },
  {
   "cell_type": "markdown",
   "metadata": {},
   "source": [
    "**2.2 Nonlinear feature mapping**\n",
    "\n",
    "One way to fit the data better is to create more features from each data point. In *mapFeature* below, we will map the features into all polynomial terms of $x_1$ and $x_2$ up to the\n",
    "sixth power as follows:\n",
    "\n",
    "\\begin{equation}\n",
    "mapFeature(x) \\ = \\\n",
    "\\begin{bmatrix}\n",
    "    1 \\\\\n",
    "    x_1 \\\\\n",
    "    x_2 \\\\\n",
    "    x_1^2 \\\\\n",
    "    x_1x_2 \\\\\n",
    "    x_2^2 \\\\\n",
    "    x_1^3 \\\\\n",
    "    \\vdots \\\\\n",
    "    x_1x_2^5 \\\\\n",
    "    x_2^6 \\\\\n",
    "\\end{bmatrix}\n",
    "\\end{equation}\n",
    "\n",
    "As a result of this mapping, our vector of two features (the scores\n",
    "on two QA tests) has been transformed into a 28-dimensional\n",
    "vector. A logistic regression classifier trained on this\n",
    "higher-dimension feature vector will have a more complex\n",
    "decision boundary and will appear nonlinear when drawn in our\n",
    "2-dimensional plot.\n",
    "While the feature mapping allows us to build a more expressive\n",
    "classifier, it is also more susceptible to overfitting. In the next parts\n",
    "of the exercise, you will implement regularized logistic regression\n",
    "to fit the data and also see for yourself how regularization can help combat the overfitting problem.\n",
    "\n",
    "Either finite dimentional (or even infinite-dimentional, as you would see in the SVM leacture and the corresponding home assingment) feature mappings are usually denoted by $\\Phi$ and therefore our hyposesis is now that the Bernoulli probability of chip matfunctioning might be described as\n",
    "\n",
    "$$ p_i = \\sigma(\\Phi(x_i)^T \\theta)$$"
   ]
  },
  {
   "cell_type": "code",
   "execution_count": 15,
   "metadata": {
    "scrolled": false
   },
   "outputs": [
    {
     "name": "stdout",
     "output_type": "stream",
     "text": [
      "[[ 0  0  1  0  2  1  0  2  3  1  4  2  1  3  0  5  3  0  2  4  1  0  6  2\n",
      "   5  4  3  1  4  0  1  2  6  7  3  5  2  3  4  6  8  5  7  0  1  4  7  3\n",
      "   6  9  8  0  2  1  5  9  3  5  7  8  4 10  6  1  0  2  0  9  1  4  5  2\n",
      "  10  7  8  6 11  3  7  0  1  9 12  4  6  2  8 11 10  3  5  6 13  1  5  7\n",
      "   9  8  4 12  2 10  0 11  3  0 12 11 14 10  9  7  6  8 13  4  2  3  1  5\n",
      "   5  4  9  0 15 14  7  1 10  8  3  2 11  6 12 13  8  3 11  2 14  9 12 13\n",
      "  10 16  4  0  6  5  1 15  7 12  5  2 13 11  6 15  3 10  7  0  1 16 14  8\n",
      "   4  9 17  5 12  2  4  8 14 13 16 11  9  6 15  0  1 10  3 18  7 17 15 13\n",
      "  14 17 19 18 16  2 12  3  1  4  5  0  7  8  6  9 10 11 11 18  3  1 17 10\n",
      "   4 16 13  5  0 19 15 12  6  9  7 14  2  8 20]\n",
      " [ 0  1  0  2  0  1  3  1  0  2  0  2  3  1  4  0  2  5  3  1  4  6  0  4\n",
      "   1  2  3  5  3  7  6  5  1  0  4  2  6  5  4  2  0  3  1  8  7  5  2  6\n",
      "   3  0  1  9  7  8  4  1  7  5  3  2  6  0  4  9 10  8 11  2 10  7  6  9\n",
      "   1  4  3  5  0  8  5 12 11  3  0  8  6 10  4  1  2  9  7  7  0 12  8  6\n",
      "   4  5  9  1 11  3 13  2 10 14  2  3  0  4  5  7  8  6  1 10 12 11 13  9\n",
      "  10 11  6 15  0  1  8 14  5  7 12 13  4  9  3  2  8 13  5 14  2  7  4  3\n",
      "   6  0 12 16 10 11 15  1  9  5 12 15  4  6 11  2 14  7 10 17 16  1  3  9\n",
      "  13  8  0 13  6 16 14 10  4  5  2  7  9 12  3 18 17  8 15  0 11  1  4  6\n",
      "   5  2  0  1  3 17  7 16 18 15 14 19 12 11 13 10  9  8  9  2 17 19  3 10\n",
      "  16  4  7 15 20  1  5  8 14 11 13  6 18 12  0]]\n",
      "total power per monomial [ 0  1  1  2  2  2  3  3  3  3  4  4  4  4  4  5  5  5  5  5  5  6  6  6\n",
      "  6  6  6  6  7  7  7  7  7  7  7  7  8  8  8  8  8  8  8  8  8  9  9  9\n",
      "  9  9  9  9  9  9  9 10 10 10 10 10 10 10 10 10 10 10 11 11 11 11 11 11\n",
      " 11 11 11 11 11 11 12 12 12 12 12 12 12 12 12 12 12 12 12 13 13 13 13 13\n",
      " 13 13 13 13 13 13 13 13 13 14 14 14 14 14 14 14 14 14 14 14 14 14 14 14\n",
      " 15 15 15 15 15 15 15 15 15 15 15 15 15 15 15 15 16 16 16 16 16 16 16 16\n",
      " 16 16 16 16 16 16 16 16 16 17 17 17 17 17 17 17 17 17 17 17 17 17 17 17\n",
      " 17 17 17 18 18 18 18 18 18 18 18 18 18 18 18 18 18 18 18 18 18 18 19 19\n",
      " 19 19 19 19 19 19 19 19 19 19 19 19 19 19 19 19 19 19 20 20 20 20 20 20\n",
      " 20 20 20 20 20 20 20 20 20 20 20 20 20 20 20]\n",
      "(118, 231)\n"
     ]
    }
   ],
   "source": [
    "from itertools import combinations_with_replacement\n",
    "\n",
    "def polynomial_feature_map(X_data, degree=20, show_me_ur_powers=False):\n",
    "    assert len(X_data.shape) == 2\n",
    "    group_size = X_data.shape[1]\n",
    "    assert group_size == 2\n",
    "    # hm.. how to get all ordered pairs (c, d) of non-negative ints \n",
    "    # such that their sum is c + d <= dergee? \n",
    "    # it is eqvivalent to getting all groups of integers (a, b) such that\n",
    "    # 0 <= a <= b <= degree and definintg c = a, d = b - a\n",
    "    # their sum is below degree, both are >= 0 \n",
    "    # then feature_i = (x_0 ^ c) * (x_1 ^ d)\n",
    "    comb_iterator = combinations_with_replacement(range(degree+1), group_size)\n",
    "    not_quite_powers = np.array(list(comb_iterator))\n",
    "    # The not_quite_powers here is all pairs combinations of powers from (0,0) to (20,20)\n",
    "    powers_bad_order = not_quite_powers.copy()\n",
    "    powers_bad_order[:, 1] -= not_quite_powers[:, 0]\n",
    "    # Here the pairs in \"powers_bad_order\" array has sums no larger than 20.\n",
    "    # let's reorder them so that lower power monomials come first\n",
    "    rising_power_idx = np.argsort(powers_bad_order.sum(axis=1))\n",
    "#     print(rising_power_idx.shape)  #(231,)\n",
    "#     print(powers_bad_order.shape)  #(231,2)\n",
    "    powers = powers_bad_order[rising_power_idx]\n",
    "#     print(powers.shape)  # (231,2)\n",
    "    # the \"powers\" is the sortedd powers of pairs. from 0 to 20.\n",
    "    if show_me_ur_powers is True:\n",
    "        print(powers.T)  # shape is (2,231)\n",
    "        print('total power per monomial', powers.sum(axis=1))  # shape is (231,)\n",
    "    X_with_powers = np.power(X_data[:, :, None], powers.T[None])\n",
    "#     print(X_with_powers.shape) # shape is (118,2,231)\n",
    "    X_poly = np.prod(X_with_powers, axis=1)  # return the product of array elements over a given axis(column)\n",
    "    return X_poly\n",
    "\n",
    "X_pf = polynomial_feature_map(X_data, show_me_ur_powers=True)\n",
    "print(X_pf.shape)  # so that we expand the input matrix from (118,2) ----- (118,231)"
   ]
  },
  {
   "cell_type": "markdown",
   "metadata": {},
   "source": [
    "**2.3 Cost function and gradient**\n",
    "\n",
    "Now you will implement code to compute the cost function and gradient for regularized logistic\n",
    "regression. Recall that the regularized cost function in logistic regression is:\n",
    "\n",
    "$J(\\theta) \\ = \\ [ \\ \\frac{1}{m} \\ \\sum_{i=1}^{m} \\ [ \\ -y^{(i)} log(h_\\theta(x^{(i)})) \\ - \\ (1 - y^{(i)})log(1-h_\\theta(x^{(i)})) \\ ] \\ ] \\ + \\frac{\\lambda}{2m} \\sum_{j=2}^{n} \\theta_j^2 $\n",
    "\n",
    "Note that you should not regularize the parameter $\\theta_0$ (Why not? Think about why that would be a bad idea).\n",
    "\n",
    "The gradient of the cost function is a vector where the j element is defined as follows (you should understand how to obtain this expression):\n",
    "\n",
    "$\\frac{\\partial J(\\theta)}{\\partial \\theta_{0}} \\ = \\ \\frac{1}{m} \\ \\sum_{i=1}^{m} \\ (h_\\theta(x^{(i)})-y^{(i)}) x_j^{(i)} \\quad \\quad \\quad \\quad \\quad \\quad$ for $\\quad j=0$\n",
    "\n",
    "$\\frac{\\partial J(\\theta)}{\\partial \\theta_{j}} \\ = \\ (\\frac{1}{m} \\ \\sum_{i=1}^{m} \\ (h_\\theta(x^{(i)})-y^{(i)}) x_j^{(i)}) + \\frac{\\lambda}{m}\\theta_j \\quad \\quad \\quad$ for $\\quad j \\ge 1$\n"
   ]
  },
  {
   "cell_type": "markdown",
   "metadata": {},
   "source": [
    "**2.3.1 [10pts] Implementing regularized logistic regression**\n",
    "\n",
    "Re-implement computeCost with regularization."
   ]
  },
  {
   "cell_type": "code",
   "execution_count": 33,
   "metadata": {},
   "outputs": [],
   "source": [
    "# Cost function, default lambda (regularization) 0\n",
    "def logistic_loss_theta_w_reg(x, y, h, theta, lambda_=0.0): \n",
    "    #raise NotImplementedError('Implement it yourself.')\n",
    "    loss = (1/x.shape[0])*np.linalg.norm((-np.matmul(y.T,np.log(h(x,theta)))-np.matmul((1-y).T,np.log(1-h(x,theta)))))+\\\n",
    "    (lambda_/(2*x.shape[0]))*(np.sum([i**2 for i in theta[1:]]))\n",
    "    return loss\n",
    "\n",
    "def logistic_loss_theta_w_reg_grad(x, y, h, theta, lambda_=0.0): \n",
    "    #raise NotImplementedError('Implement it yourself.')\n",
    "    theta_new = theta.copy()\n",
    "    theta_new[0] = 0\n",
    "    grad = (1/x.shape[0])*np.matmul(x.T,(h(x,theta)-y))+(lambda_/x.shape[0])*theta_new\n",
    "#     print((h(x,theta)-y).shape) # shape is (118,1)\n",
    "#     print(x.shape)\n",
    "#     print(theta.shape)\n",
    "#     print(grad.shape)  # shape is (231,1)\n",
    "    return grad"
   ]
  },
  {
   "cell_type": "markdown",
   "metadata": {},
   "source": [
    "Once you are done, you will call your cost function using the initial value of\n",
    "θ (initialized to all zeros). You should see that the cost is about 0.693. "
   ]
  },
  {
   "cell_type": "code",
   "execution_count": 34,
   "metadata": {
    "scrolled": false
   },
   "outputs": [
    {
     "name": "stdout",
     "output_type": "stream",
     "text": [
      "0.6931471805599453\n",
      "[[ 8.47457627e-03]\n",
      " [-1.47393694e-03]\n",
      " [ 1.83238652e-02]\n",
      " [ 3.79204875e-02]\n",
      " [ 4.83116870e-02]\n",
      " [ 8.14194228e-03]\n",
      " [ 2.74281128e-03]\n",
      " [-2.78183863e-03]\n",
      " [ 1.02502549e-02]\n",
      " [ 2.53327158e-03]\n",
      " [ 3.62206863e-02]\n",
      " [ 1.14745376e-02]\n",
      " [-5.13006494e-04]\n",
      " [-7.37665567e-04]\n",
      " [ 2.96926570e-02]\n",
      " [ 9.66227378e-03]\n",
      " [ 1.26710268e-03]\n",
      " [ 5.83282025e-04]\n",
      " [-7.50311428e-04]\n",
      " [-2.66858278e-03]\n",
      " [ 1.96894912e-03]\n",
      " [ 2.22460292e-02]\n",
      " [ 2.61849067e-02]\n",
      " [ 5.14792073e-03]\n",
      " [-1.80202003e-03]\n",
      " [ 5.56307799e-03]\n",
      " [-1.21167516e-03]\n",
      " [-2.15775754e-03]\n",
      " [-7.77390798e-04]\n",
      " [-9.97158003e-04]\n",
      " [ 1.71369098e-03]\n",
      " [-6.27268614e-04]\n",
      " [-2.22430409e-03]\n",
      " [ 9.08105468e-03]\n",
      " [ 8.49610910e-04]\n",
      " [ 1.01196534e-03]\n",
      " [ 2.91086360e-03]\n",
      " [-1.05308072e-03]\n",
      " [ 2.03649298e-03]\n",
      " [ 3.01185527e-03]\n",
      " [ 1.95553205e-02]\n",
      " [-8.02388158e-04]\n",
      " [-1.74538564e-03]\n",
      " [ 1.70850907e-02]\n",
      " [-2.24318631e-03]\n",
      " [-4.29158120e-04]\n",
      " [ 7.52146991e-04]\n",
      " [ 5.96787640e-04]\n",
      " [-6.12485717e-04]\n",
      " [ 8.44926264e-03]\n",
      " [-1.72286617e-03]\n",
      " [-1.85306005e-03]\n",
      " [-5.83990046e-04]\n",
      " [ 1.55326398e-03]\n",
      " [ 5.26695294e-04]\n",
      " [-1.48962270e-03]\n",
      " [-7.85026484e-04]\n",
      " [-5.21056659e-04]\n",
      " [-5.06525809e-04]\n",
      " [ 1.75113347e-03]\n",
      " [ 9.94803149e-04]\n",
      " [ 1.52391383e-02]\n",
      " [ 9.72566668e-04]\n",
      " [-2.00909851e-03]\n",
      " [ 1.35100928e-02]\n",
      " [ 1.88656843e-03]\n",
      " [-2.25032182e-03]\n",
      " [ 5.34461772e-04]\n",
      " [ 1.41933459e-03]\n",
      " [-2.83959262e-04]\n",
      " [ 3.08317958e-04]\n",
      " [-5.37087646e-04]\n",
      " [-1.32506623e-03]\n",
      " [ 3.34412182e-04]\n",
      " [-4.25516303e-04]\n",
      " [-2.90240458e-04]\n",
      " [ 7.90050084e-03]\n",
      " [ 4.44349403e-04]\n",
      " [-2.76713749e-04]\n",
      " [ 1.09436748e-02]\n",
      " [-1.73758499e-03]\n",
      " [-3.21363567e-04]\n",
      " [ 1.24079315e-02]\n",
      " [ 5.71999634e-04]\n",
      " [ 4.32732207e-04]\n",
      " [ 1.33553760e-03]\n",
      " [ 5.12654909e-04]\n",
      " [-1.23938660e-03]\n",
      " [ 1.06907659e-03]\n",
      " [-5.80663410e-04]\n",
      " [-3.33795768e-04]\n",
      " [-1.60990627e-04]\n",
      " [ 7.47484721e-03]\n",
      " [ 1.29042510e-03]\n",
      " [ 1.93080059e-04]\n",
      " [ 1.76990626e-04]\n",
      " [ 2.09326473e-04]\n",
      " [-1.86973776e-04]\n",
      " [-2.07021597e-04]\n",
      " [-1.04620838e-03]\n",
      " [-4.86587418e-04]\n",
      " [-2.80191940e-04]\n",
      " [-2.38498748e-03]\n",
      " [ 3.75865346e-04]\n",
      " [ 3.50244399e-04]\n",
      " [ 9.03209550e-03]\n",
      " [ 6.77123643e-04]\n",
      " [-2.04647384e-04]\n",
      " [ 1.05371383e-02]\n",
      " [ 2.87124296e-04]\n",
      " [-1.56428071e-04]\n",
      " [-1.58474755e-04]\n",
      " [ 2.27964051e-04]\n",
      " [ 2.12965399e-04]\n",
      " [-1.04058930e-03]\n",
      " [ 3.66985247e-04]\n",
      " [ 1.00233823e-03]\n",
      " [-4.39251806e-04]\n",
      " [-1.49331666e-03]\n",
      " [-2.20523830e-04]\n",
      " [ 1.30451628e-04]\n",
      " [-1.61176751e-04]\n",
      " [ 1.04119828e-04]\n",
      " [-2.37488815e-03]\n",
      " [ 7.16946632e-03]\n",
      " [-8.61198695e-04]\n",
      " [ 9.95414889e-05]\n",
      " [ 1.16421308e-03]\n",
      " [-1.16709110e-04]\n",
      " [-9.51174611e-05]\n",
      " [ 2.87275083e-04]\n",
      " [-4.35866834e-04]\n",
      " [ 1.29923762e-04]\n",
      " [-9.85544357e-05]\n",
      " [-1.80712606e-04]\n",
      " [ 2.66827110e-04]\n",
      " [ 1.04689809e-04]\n",
      " [-3.41331526e-04]\n",
      " [-9.15817603e-05]\n",
      " [ 7.82822860e-04]\n",
      " [ 4.43095889e-04]\n",
      " [-8.27204171e-05]\n",
      " [ 1.66859455e-04]\n",
      " [-1.30791364e-04]\n",
      " [ 1.13406018e-04]\n",
      " [ 9.29796292e-03]\n",
      " [ 2.54559409e-04]\n",
      " [ 7.56219770e-03]\n",
      " [ 1.34573718e-04]\n",
      " [-1.52363835e-04]\n",
      " [-1.28640877e-03]\n",
      " [-8.94740987e-04]\n",
      " [-9.49435171e-05]\n",
      " [-7.17147424e-05]\n",
      " [ 9.45717643e-05]\n",
      " [-3.87371653e-04]\n",
      " [ 8.04167511e-05]\n",
      " [ 6.17684344e-05]\n",
      " [-6.57250165e-05]\n",
      " [ 1.93699340e-04]\n",
      " [ 2.41471250e-04]\n",
      " [-5.65355937e-05]\n",
      " [ 5.97572413e-05]\n",
      " [-2.28744025e-03]\n",
      " [ 1.04308827e-03]\n",
      " [-7.42326893e-04]\n",
      " [-1.16041532e-04]\n",
      " [-5.25177896e-05]\n",
      " [-1.30965247e-04]\n",
      " [ 5.49236357e-05]\n",
      " [ 6.96814247e-03]\n",
      " [-1.10125780e-04]\n",
      " [ 6.33934609e-05]\n",
      " [ 6.28673866e-04]\n",
      " [ 1.86987655e-04]\n",
      " [ 5.73885016e-05]\n",
      " [ 9.92359449e-05]\n",
      " [-5.45334072e-05]\n",
      " [ 2.99854418e-04]\n",
      " [-4.58889618e-05]\n",
      " [-4.58753639e-05]\n",
      " [ 8.65567605e-05]\n",
      " [-8.41661983e-05]\n",
      " [ 6.40173082e-03]\n",
      " [-1.11333815e-03]\n",
      " [ 5.30023157e-05]\n",
      " [-2.71775416e-04]\n",
      " [ 8.48180067e-03]\n",
      " [-5.99572151e-05]\n",
      " [-7.92108723e-04]\n",
      " [ 4.98326029e-05]\n",
      " [ 3.67822386e-05]\n",
      " [-4.37812881e-05]\n",
      " [ 1.45169685e-04]\n",
      " [ 6.85268784e-03]\n",
      " [-6.68120055e-04]\n",
      " [-7.49083298e-05]\n",
      " [-3.42482223e-04]\n",
      " [-3.35943102e-05]\n",
      " [ 2.05842933e-04]\n",
      " [ 9.29517573e-04]\n",
      " [-1.09218531e-04]\n",
      " [ 7.25918800e-05]\n",
      " [-2.16073377e-03]\n",
      " [ 3.84950427e-05]\n",
      " [-3.11509638e-05]\n",
      " [-4.72248742e-05]\n",
      " [ 3.04852627e-05]\n",
      " [-2.94487967e-05]\n",
      " [ 3.13101492e-05]\n",
      " [-2.41290980e-05]\n",
      " [ 2.10657777e-04]\n",
      " [-2.20772412e-04]\n",
      " [-9.68124950e-04]\n",
      " [-5.48182719e-05]\n",
      " [ 2.74189830e-05]\n",
      " [ 1.43302573e-04]\n",
      " [ 5.99640102e-05]\n",
      " [-2.63125037e-05]\n",
      " [-8.28445778e-05]\n",
      " [ 5.46567327e-03]\n",
      " [-7.22028416e-04]\n",
      " [-3.27481656e-05]\n",
      " [ 2.86020127e-05]\n",
      " [ 5.96304276e-05]\n",
      " [-2.67109736e-05]\n",
      " [-4.00056524e-05]\n",
      " [ 3.64708123e-05]\n",
      " [ 5.15053246e-04]\n",
      " [ 3.41810853e-05]\n",
      " [ 7.95432475e-03]]\n"
     ]
    },
    {
     "data": {
      "image/png": "[encoded data removed]",
      "text/plain": [
       "<Figure size 432x288 with 1 Axes>"
      ]
     },
     "metadata": {},
     "output_type": "display_data"
    },
    {
     "name": "stdout",
     "output_type": "stream",
     "text": [
      "best loss 0.3113433794184657\n",
      "best acc 0.847457627118644\n"
     ]
    }
   ],
   "source": [
    "theta_init = np.zeros((X_pf.shape[1], 1))\n",
    "print(logistic_loss_theta_w_reg(X_pf, y_data, hyposesis_function, theta_init))\n",
    "print(logistic_loss_theta_w_reg_grad(X_pf, y_data, hyposesis_function, theta_init))\n",
    "\n",
    "loss = partial(logistic_loss_theta_w_reg, X_pf, y_data, hyposesis_function)\n",
    "loss_grad = partial(logistic_loss_theta_w_reg_grad, X_pf, y_data, hyposesis_function)\n",
    "theta, best_cost = optimize(theta_init, loss, loss_grad, max_iter=10000, print_every=0, show=True)\n",
    "print('best loss', best_cost)\n",
    "print('best acc', accuracy(X_pf, y_data, theta))"
   ]
  },
  {
   "cell_type": "markdown",
   "metadata": {},
   "source": [
    "**2.3.2 [15pts] Learning parameters using *minimize***\n",
    "\n",
    "You will use *optimize.minimize* to learn the optimal parameters $\\theta$. If you\n",
    "have completed the cost and gradient for regularized logistic regression correctly, you should be able to learn the parameters\n",
    "$\\theta$ using *minimize*. Implement the function *optimizeRegularizedTheta* below.  "
   ]
  },
  {
   "cell_type": "code",
   "execution_count": 18,
   "metadata": {
    "scrolled": false
   },
   "outputs": [
    {
     "name": "stdout",
     "output_type": "stream",
     "text": [
      "(231, 1)\n",
      "[[ 4.19339701e+00]\n",
      " [ 8.52370120e-02]\n",
      " [ 4.83000122e-01]\n",
      " [-5.71113682e+00]\n",
      " [-6.33415275e+00]\n",
      " [-4.85851307e+00]\n",
      " [-1.15482614e+00]\n",
      " [-3.93797616e-02]\n",
      " [ 5.88228313e-01]\n",
      " [ 5.58994006e-01]\n",
      " [-4.95595320e+00]\n",
      " [-1.77907328e+00]\n",
      " [-1.21835200e+00]\n",
      " [-7.36011170e-01]\n",
      " [-4.27322478e+00]\n",
      " [-5.88255852e-02]\n",
      " [ 2.23702992e-01]\n",
      " [-5.79127292e-01]\n",
      " [-1.84906486e-01]\n",
      " [ 1.46909611e-01]\n",
      " [ 1.35488891e-01]\n",
      " [-3.03590399e+00]\n",
      " [-3.49565671e+00]\n",
      " [-7.16125831e-01]\n",
      " [-3.51474543e-02]\n",
      " [-8.74099801e-01]\n",
      " [-7.04807426e-02]\n",
      " [-2.69920641e-01]\n",
      " [-5.07694793e-03]\n",
      " [-1.66430396e-01]\n",
      " [-9.20245749e-03]\n",
      " [-6.25079394e-02]\n",
      " [ 2.05407014e-01]\n",
      " [-3.33315099e-01]\n",
      " [ 3.32576094e-02]\n",
      " [ 2.26272922e-02]\n",
      " [-3.68022741e-01]\n",
      " [ 5.06708679e-02]\n",
      " [-2.95429610e-01]\n",
      " [-4.72926092e-01]\n",
      " [-2.47931934e+00]\n",
      " [ 4.43540734e-02]\n",
      " [ 1.23238091e-01]\n",
      " [-2.24395839e+00]\n",
      " [ 1.89579943e-02]\n",
      " [ 3.08343817e-03]\n",
      " [-3.42453812e-02]\n",
      " [-8.91670087e-03]\n",
      " [ 4.76865374e-02]\n",
      " [-4.26433497e-01]\n",
      " [ 1.79765157e-01]\n",
      " [ 5.84451249e-02]\n",
      " [ 5.27961990e-04]\n",
      " [-7.42674232e-02]\n",
      " [-1.87008836e-02]\n",
      " [ 1.43813057e-01]\n",
      " [ 6.21155874e-02]\n",
      " [ 4.71897940e-02]\n",
      " [ 5.02625444e-02]\n",
      " [-2.74566633e-01]\n",
      " [-1.32306048e-01]\n",
      " [-1.79961093e+00]\n",
      " [-1.44399556e-01]\n",
      " [ 1.11497527e-01]\n",
      " [-1.72706415e+00]\n",
      " [-2.26365393e-01]\n",
      " [ 1.69931694e-01]\n",
      " [-4.10467571e-02]\n",
      " [-1.02711682e-01]\n",
      " [ 9.32934891e-03]\n",
      " [-1.77095009e-02]\n",
      " [ 2.79586716e-02]\n",
      " [ 1.38682657e-01]\n",
      " [-2.70584123e-02]\n",
      " [ 4.78758234e-02]\n",
      " [ 2.19693798e-02]\n",
      " [-4.48081097e-01]\n",
      " [-2.09098620e-02]\n",
      " [ 3.12877678e-02]\n",
      " [-1.37068836e+00]\n",
      " [ 1.36051647e-01]\n",
      " [ 3.93146636e-02]\n",
      " [-1.34640322e+00]\n",
      " [-7.17655057e-02]\n",
      " [-5.97289241e-02]\n",
      " [-1.56843944e-01]\n",
      " [-7.77637850e-02]\n",
      " [ 1.27870504e-01]\n",
      " [-1.66588545e-01]\n",
      " [ 5.43557947e-02]\n",
      " [ 3.43469483e-02]\n",
      " [ 1.26222098e-02]\n",
      " [-4.43712619e-01]\n",
      " [-1.11546850e-01]\n",
      " [-1.34675787e-02]\n",
      " [-1.63440926e-02]\n",
      " [-2.21378311e-02]\n",
      " [ 2.05942644e-02]\n",
      " [ 1.15515891e-02]\n",
      " [ 1.03858303e-01]\n",
      " [ 3.81628258e-02]\n",
      " [ 3.61014307e-02]\n",
      " [ 2.19279497e-01]\n",
      " [-3.45691188e-02]\n",
      " [-2.41146958e-02]\n",
      " [-1.11280648e+00]\n",
      " [-1.03966114e-01]\n",
      " [ 2.76362328e-02]\n",
      " [-1.04328352e+00]\n",
      " [-4.43562449e-02]\n",
      " [ 2.00487375e-02]\n",
      " [ 1.86127856e-02]\n",
      " [-2.97836768e-02]\n",
      " [-3.04432111e-02]\n",
      " [ 1.05813088e-01]\n",
      " [-4.45870228e-02]\n",
      " [-1.16744054e-01]\n",
      " [ 4.46376830e-02]\n",
      " [ 1.35456584e-01]\n",
      " [ 2.39878299e-02]\n",
      " [-1.03571909e-02]\n",
      " [ 1.18447750e-02]\n",
      " [-1.18921288e-02]\n",
      " [ 2.35824986e-01]\n",
      " [-4.31745137e-01]\n",
      " [ 7.87361632e-02]\n",
      " [-9.60938578e-03]\n",
      " [-1.10087959e-01]\n",
      " [ 1.49413819e-02]\n",
      " [ 1.03566318e-02]\n",
      " [-2.39143141e-02]\n",
      " [ 4.01685045e-02]\n",
      " [-1.55604437e-02]\n",
      " [ 8.13163618e-03]\n",
      " [ 2.47564838e-02]\n",
      " [-2.63518850e-02]\n",
      " [-1.42666051e-02]\n",
      " [ 3.62104078e-02]\n",
      " [ 1.26553519e-02]\n",
      " [-9.07084076e-02]\n",
      " [-6.63011263e-02]\n",
      " [ 1.06704428e-02]\n",
      " [-2.61144127e-02]\n",
      " [ 1.85391330e-02]\n",
      " [-1.67143591e-02]\n",
      " [-8.39654312e-01]\n",
      " [-3.03766474e-02]\n",
      " [-9.19069045e-01]\n",
      " [-1.69597764e-02]\n",
      " [ 1.70657935e-02]\n",
      " [ 1.25816765e-01]\n",
      " [ 8.63941085e-02]\n",
      " [ 1.12961227e-02]\n",
      " [ 9.88457129e-03]\n",
      " [-8.25440935e-03]\n",
      " [ 3.84497823e-02]\n",
      " [-1.02860498e-02]\n",
      " [-7.86870098e-03]\n",
      " [ 5.74357423e-03]\n",
      " [-1.94635695e-02]\n",
      " [-2.23016445e-02]\n",
      " [ 7.16333061e-03]\n",
      " [-5.90112275e-03]\n",
      " [ 2.35473832e-01]\n",
      " [-1.03596993e-01]\n",
      " [ 6.17740333e-02]\n",
      " [ 1.63423738e-02]\n",
      " [ 5.65614716e-03]\n",
      " [ 1.12409876e-02]\n",
      " [-6.39117094e-03]\n",
      " [-4.19547280e-01]\n",
      " [ 1.25092637e-02]\n",
      " [-9.56225734e-03]\n",
      " [-7.24380336e-02]\n",
      " [-2.20286082e-02]\n",
      " [-7.55259119e-03]\n",
      " [-1.56501412e-02]\n",
      " [ 7.88558677e-03]\n",
      " [-4.31600392e-02]\n",
      " [ 6.31669729e-03]\n",
      " [ 5.89185347e-03]\n",
      " [-1.06440103e-02]\n",
      " [ 1.21722727e-02]\n",
      " [-7.69207347e-01]\n",
      " [ 1.13524479e-01]\n",
      " [-7.51113456e-03]\n",
      " [ 2.94540137e-02]\n",
      " [-7.02328052e-01]\n",
      " [ 7.15960655e-03]\n",
      " [ 7.13662704e-02]\n",
      " [-6.61219788e-03]\n",
      " [-4.97840320e-03]\n",
      " [ 6.28006166e-03]\n",
      " [-1.43473686e-02]\n",
      " [-4.09859352e-01]\n",
      " [ 5.07105026e-02]\n",
      " [ 1.06359904e-02]\n",
      " [ 3.52262534e-02]\n",
      " [ 4.60329020e-03]\n",
      " [-2.01665676e-02]\n",
      " [-9.49694912e-02]\n",
      " [ 1.02519823e-02]\n",
      " [-6.77665343e-03]\n",
      " [ 2.26662648e-01]\n",
      " [-3.86337736e-03]\n",
      " [ 3.32441679e-03]\n",
      " [ 4.35664452e-03]\n",
      " [-3.54621946e-03]\n",
      " [ 3.68083207e-03]\n",
      " [-4.04891902e-03]\n",
      " [ 3.29156371e-03]\n",
      " [-2.87407373e-02]\n",
      " [ 2.41431549e-02]\n",
      " [ 1.01123638e-01]\n",
      " [ 7.93382703e-03]\n",
      " [-3.77177979e-03]\n",
      " [-1.66854686e-02]\n",
      " [-9.48540640e-03]\n",
      " [ 3.77942980e-03]\n",
      " [ 9.44534636e-03]\n",
      " [-6.50534030e-01]\n",
      " [ 6.03629996e-02]\n",
      " [ 4.86598974e-03]\n",
      " [-4.17996453e-03]\n",
      " [-7.19118899e-03]\n",
      " [ 3.40165233e-03]\n",
      " [ 4.76472928e-03]\n",
      " [-5.58971766e-03]\n",
      " [-5.89563494e-02]\n",
      " [-4.37791519e-03]\n",
      " [-6.09573885e-01]]\n"
     ]
    }
   ],
   "source": [
    "def optimizeRegularizedTheta():\n",
    "    theta,_ = optimize(theta_init, loss, loss_grad, max_iter=1000, print_every=0, show=False)\n",
    "    return theta\n",
    "theta_min = optimizeRegularizedTheta()\n",
    "print(theta_min.shape)\n",
    "print(theta_min)"
   ]
  },
  {
   "cell_type": "markdown",
   "metadata": {},
   "source": [
    "**2.4 Plotting the decision boundary**\n",
    "\n",
    "To help you visualize the model learned by this classifier, we have provided the function\n",
    "*plotBoundary* which plots the (non-linear) decision boundary that separates the\n",
    "positive and negative examples. "
   ]
  },
  {
   "cell_type": "code",
   "execution_count": 19,
   "metadata": {},
   "outputs": [],
   "source": [
    "def plot_boundary(theta, X, y, labels, markers, xlabel, ylabel, figsize=(12, 10), ax=None):\n",
    "    \"\"\"\n",
    "    Function to plot the decision boundary for arbitrary theta, X, y, lambda value\n",
    "    Inside of this function is feature mapping, and the minimization routine.\n",
    "    It works by making a grid of x1 (\"xvals\") and x2 (\"yvals\") points,\n",
    "    And for each, computing whether the hypothesis classifies that point as\n",
    "    True or False. Then, a contour is drawn with a built-in pyplot function.\n",
    "    \"\"\"\n",
    "    ax = ax or plt.gca()\n",
    "    x_range = np.linspace(-1,1.5,50)\n",
    "    y_range = np.linspace(-1,1.5,50)\n",
    "    xx, yy = np.meshgrid(x_range, y_range)\n",
    "    X_fake = np.stack([xx, yy]).reshape(2, -1).T\n",
    "    X_fake_fm = polynomial_feature_map(X_fake)\n",
    "    y_pred_fake = hyposesis_function(X_fake_fm, theta)\n",
    "    for label_id, (label, marker) in enumerate(zip(labels, markers)):        \n",
    "        ax.plot(*X_data[y_data.ravel()==label_id, :2].T, marker, label=label)\n",
    "    ax.set_xlabel(xlabel)\n",
    "    ax.set_ylabel(ylabel)\n",
    "    plt.legend()\n",
    "    plt.grid()\n",
    "    return ax.contour( x_range, y_range, y_pred_fake.reshape(50, 50).T, [0.5])\n",
    "\n",
    "\n",
    "def silent_optimize_w_lambda(lambda_):\n",
    "    theta_init = np.zeros((X_pf.shape[1], 1))\n",
    "    data = (X_pf_train, y_train, hyposesis_function)\n",
    "    loss = partial(logistic_loss_theta_w_reg, *data, lambda_=lambda_)\n",
    "    loss_grad = partial(logistic_loss_theta_w_reg_grad, *data, lambda_=lambda_)\n",
    "    optimizer_fn = partial(climin.GradientDescent, step_rate=1e-4, momentum=0.999)\n",
    "    theta, final_loss = optimize(\n",
    "        theta_init, loss, loss_grad, optimizer_fn=optimizer_fn, \n",
    "        max_iter=1000, print_every=0, show=False\n",
    "    )\n",
    "    return theta, final_loss"
   ]
  },
  {
   "cell_type": "markdown",
   "metadata": {},
   "source": [
    "**2.4.1 [10pts] Plot Decision Boundaries**\n",
    "\n",
    "(a) [2 pts] Use *plotBoundary* to obtain four subplots of the decision boundary for the following values of the regularization parameter: $\\lambda \\ = \\ 0, 1, 5, 10$"
   ]
  },
  {
   "cell_type": "markdown",
   "metadata": {},
   "source": [
    "(b) [2 pts] Comment on which plots are overfitting and which plots are underfitting.\n",
    "\n",
    "**Answer**\n",
    "\n",
    "When $\\lambda = 0$(no regularization), plot is overfitting. When $\\lambda=5,10$, plots are underfitting."
   ]
  },
  {
   "cell_type": "markdown",
   "metadata": {},
   "source": [
    "(c) [2 pts] Which is the model with the highest bias? The highest variance?\n",
    "\n",
    "**Answer**\n",
    "\n",
    "When $\\lambda=10$, the model has the highest bias. When $\\lambda=0$, the model has the highest variance."
   ]
  },
  {
   "cell_type": "markdown",
   "metadata": {},
   "source": [
    "(d) [2 pts] What is another way to detect overfitting? \n",
    "\n",
    "**Answer**\n",
    "\n",
    "There are two ways to detect overfitting.\n",
    "\n",
    "(1) By cross-validation. If the model performes well on training data but bad on test data, overfitting. If the performances are both bad, under-fitting.\n",
    "\n",
    "(2) By learning curve. If both validation accuracy and training accuracy converge at some low value, under-fitting. If both of them converge around a high value, but there is a huge gap between training acc and validation acc(training always performes better than validation), overfitting."
   ]
  },
  {
   "cell_type": "markdown",
   "metadata": {},
   "source": [
    "(e) [2 pts] Considering that later components of theta correspond to higher powers of monomials, plot values of theta and commend on effects of regularization"
   ]
  },
  {
   "cell_type": "code",
   "execution_count": 20,
   "metadata": {
    "scrolled": false
   },
   "outputs": [
    {
     "name": "stdout",
     "output_type": "stream",
     "text": [
      "[(34, 231), (34, 1), (84, 231), (84, 1)]\n"
     ]
    },
    {
     "data": {
      "image/png": "[encoded data removed]",
      "text/plain": [
       "<Figure size 864x720 with 4 Axes>"
      ]
     },
     "metadata": {},
     "output_type": "display_data"
    },
    {
     "data": {
      "image/png": "[encoded data removed]",
      "text/plain": [
       "<Figure size 576x432 with 4 Axes>"
      ]
     },
     "metadata": {},
     "output_type": "display_data"
    }
   ],
   "source": [
    "# (a) Build a figure showing contours for various values of regularization parameter, lambda\n",
    "\n",
    "np.random.seed(2)\n",
    "train_idx_mask = np.random.rand(X_pf.shape[0]) < 0.3\n",
    "X_pf_train, y_train = X_pf[train_idx_mask], y_data[train_idx_mask]\n",
    "X_pf_test, y_test = X_pf[~train_idx_mask], y_data[~train_idx_mask]\n",
    "print([x.shape for x in (X_pf_train, y_train, X_pf_test, y_test)])\n",
    "\n",
    "\n",
    "new_plotting_spec = {\n",
    "    'X': X_data,\n",
    "    'y': y_data, \n",
    "    'xlabel': 'Microchip Test 1 Result', \n",
    "    'ylabel': 'Microchip Test 2 Result',\n",
    "    'labels': ['rejected', 'accepted'], \n",
    "    'markers': ['yo', 'k+'],\n",
    "    'figsize': (12, 10) \n",
    "}\n",
    "\n",
    "# you might find following lines useful:\n",
    "#\n",
    "#    cnt_fmt = {0.5: 'Lambda = %d' % lambda_}\n",
    "#    ax.clabel(cnt, inline=1, fontsize=15, fmt=cnt_fmt)\n",
    "# \n",
    "# red dots indicate training samples\n",
    "\n",
    "thetas = []\n",
    "final_loss = []\n",
    "plt.figure(figsize=(12,10))\n",
    "for id_, lambda_ in enumerate([0, 1, 5, 10]):\n",
    "    theta, final_loss = silent_optimize_w_lambda(lambda_=lambda_)\n",
    "    acc = accuracy(X_pf_test, y_test, theta)\n",
    "    thetas.append(theta)\n",
    "    ax = plt.subplot(2, 2, id_+1)\n",
    "    cnt = plot_boundary(**new_plotting_spec, theta=theta, ax=ax)  \n",
    "    cnt_fmt = {0.5: 'Lambda = %d' % lambda_}\n",
    "    ax.clabel(cnt, inline=1, fontsize=15, fmt=cnt_fmt)\n",
    "    plt.title('Decision Boundary, Accuracy={}, Loss={}'.format('%.2f' %acc,'%.2f' %final_loss))\n",
    "plt.show()\n",
    "\n",
    "\n",
    "# (e) [2 pts] Considering that later components of theta correspond to higher powers\n",
    "# of monomials, plot values of theta and commend on effects of regularization\n",
    "plt.figure(figsize=(8,6))\n",
    "ax = None\n",
    "for th_id, theta in enumerate(thetas):\n",
    "    ax = plt.subplot(2, 2, th_id+1, sharey=ax)\n",
    "    plt.plot(theta)\n",
    "    \n",
    "plt.show()"
   ]
  },
  {
   "cell_type": "markdown",
   "metadata": {},
   "source": [
    "### 3. Written part\n",
    "\n",
    "These problems are extremely important preparation for the exam. Submit solutions to each problem by filling the markdown cells below.\n",
    "\n",
    "**3.1 [10pts]** Maximum likelihood for Logistic Regression\n",
    "\n",
    "Showing all steps, derive the LR cost function using maximum likelihood. Assume that\n",
    "the probability of y given x is described by:\n",
    "\n",
    "$P(\\ y=1 \\; \\vert \\; x \\ ; \\ \\theta \\ ) = h_{\\theta}(x)$ \n",
    "\n",
    "$P(\\ y=0 \\; \\vert \\; x \\ ; \\ \\theta \\ ) = 1 - h_{\\theta}(x)$\n",
    "\n"
   ]
  },
  {
   "cell_type": "markdown",
   "metadata": {},
   "source": [
    "**Answer**\n",
    "\n",
    "$y^{(i)} \\in {(0,1)}$ and $p(y=y^{(i)}|x_i,\\theta)=h_{\\theta}(x)^{y^{(i)}}(1 - h_{\\theta}(x))^{1-y^{(i)}}$, which is a bernouli distribution.\n",
    "$$ p(y=y^{(i)} |x,\\theta)=\\prod_{i=1}^{m}h_{\\theta}(x)^{y^{(i)}}(1 - h_{\\theta}(x))^{1-y^{(i)}}$$\n",
    "Take $\\log$ on both side, we will derive the logistic regression cost function using maximum likelihood:\n",
    "$$ \\log p(y=y^{(i)} |x,\\theta) = \\sum_{i=1}^{m}{y^{(i)}}\\log(h_{\\theta}(x))+(1-y^{(i)})\\log(1 - h_{\\theta}(x))$$\n",
    "Therefore, the $J(\\theta)$ would be,\n",
    "$$ \\mathbf {J(\\theta)} = -\\frac{1}{m}[\\sum_{i=1}^{m}{y^{(i)}}\\log(h_{\\theta}(x))+(1-y^{(i)})\\log(1 - h_{\\theta}(x))]$$\n"
   ]
  },
  {
   "cell_type": "markdown",
   "metadata": {},
   "source": [
    "**3.2 [10pts]** Logistic Regression Classification with Label Noise\n",
    "\n",
    "Suppose you are building a logistic regression classifier for images of dogs, represented by a feature vector x, into one of two categories $y \\in \\{0,1\\}$, where 0 is “terrier” and 1 is “husky.” You decide to use the logistic regression model $p(y = 1 \\ \\vert \\ x) = h_{\\theta}(x)=\\sigma(\\theta^Tx).$ You collected an image dataset **D**$\\ = \\{x^{(i)},t^{(i)}\\}$, however, you were very tired and made\n",
    "some mistakes in assigning labels $t^{(i)}.$ You estimate that you were correct in about $\\tau$ fraction of all cases.\n",
    "\n",
    "(a) Write down the equation for the posterior probability $p(t = 1 \\ \\vert \\ x)$ of the label being 1 for some point x, in terms of the probability of the true class, $p(y = 1 \\ \\vert \\ x).$\n",
    "\n",
    "(b) Derive the modified cost function in terms of $\\ \\theta, x^{(i)},t^{(i)}$ and $\\tau$."
   ]
  },
  {
   "attachments": {
    "image.png": {
     "image/png": "[encoded data removed]"
    }
   },
   "cell_type": "markdown",
   "metadata": {},
   "source": [
    "**Answer**\n",
    "\n",
    "**(a)**\n",
    "\n",
    "y is the true label of two categories, which is $y \\in \\{0,1\\}$. The t is the assign label, which is $t \\in \\{0,1\\}$.\n",
    "Because there are some mistakes in assigning labels $t^{(i)}$, so that there are 4 cases:![image.png](attachment:image.png)\n",
    "\n",
    "$$ p(t=1|x) = \\tau p(y=1|x)+(1-\\tau)p(y=0|x)$$\n",
    "$$= \\tau p(y=1|x)+(1-\\tau)(1-p(y=1|x))$$\n",
    "$$=1-\\tau + (2\\tau-1)\\sigma(\\theta^{T}x)$$\n",
    "$$=1-\\tau+(2\\tau-1)\\frac{1}{1+\\exp(-\\theta^{T}x)}$$\n",
    "\n",
    "**(b)**\n",
    "\n",
    "The modified cost function will not take $y^{(i)}$ as the label distribution parameter, instead, $t^{(i)}$ is used. The loss function w.r.t $\\ \\theta, x^{(i)},t^{(i)}$ and $\\tau$ is:\n",
    "$$ J'(\\theta) = \\frac{1}{m}\\sum_{i=1}^{m}Cost(h_{\\theta}(x^{(i)}),t^{(i)})$$\n",
    "$$ = -\\frac{1}{m}\\sum_{i=1}^{m}t^{(i)}\\log p(t=1|x^{(i)})+(1-t^{(i)})\\log(1-p(t=1|x^{(i)}))$$\n",
    "$$ = -\\frac{1}{m}\\sum_{i=1}^{m}t^{(i)}\\log(1-\\tau+\\frac{2\\tau-1}{1+\\exp(-\\theta^{T}x^{(i)})})+(1-t^{(i)})\\log(\\tau-\\frac{2\\tau-1}{1+\\exp(-\\theta^{T}x^{(i)})}))$$\n"
   ]
  },
  {
   "cell_type": "markdown",
   "metadata": {},
   "source": [
    "**3.3 [10pts] Cross-entropy loss for multiclass classification**\n",
    "\n",
    "This problem asks you to derive the cross-entropy loss for a multiclass classification problem using maximum likelihood.\n",
    "Consider the multiclass classification problem in which each input is assigned to one of $K$ mutually exclusive classes. The binary target variables $y_k$ ∈ {0, 1} have a \"one-hot\" coding scheme, where the value is 1 for the indicated class and 0 for all others. Assume that we can interpret the network outputs as $h_k(x,\\theta) = p(y_k = 1|x)$, or the probability of the kth class.\n",
    "\n",
    "Show that the maximum likelihood estimate of the parameters $\\theta$ can be obtained by minimizing the multiclass *cross-entropy* loss function \n",
    "<p>\n",
    "$L(\\theta)= - \\frac{1}{N}\\sum_{i=1}^{N} \\sum_{k=1}^{K} y_{ik} \\log(h_k(x_i,\\theta))$\n",
    "</p>\n",
    "<p>\n",
    "where $N$ is the number of examples $\\{x_i,y_i\\}$. </p>"
   ]
  },
  {
   "cell_type": "markdown",
   "metadata": {},
   "source": [
    "**Answer**\n",
    "\n",
    "For a single data point, there exsits **k** possible classes. Like the Bernouli distribution in Q3.1, the distribution for all k classes looks like,\n",
    "$$ p(y_k|x_k,\\theta)=\\prod_{k=1}^{K}p(y_k=1|x)^{y_k}, \\ \\ \\ y_k \\in (0,1)$$\n",
    "Let's take the $\\log$ value on both sides, which is the log-likelihood function,\n",
    "$$ \\log p(y_k|x_k,\\theta)=\\sum_{k=1}^{K}y_k \\log p(y_k=1|x)$$\n",
    "For all N data points, we sum up all N equations above, and divided by -1/N, which is the cross_entropy function $L(\\theta)$\n",
    "$$ L(\\theta) = -\\frac{1}{N}\\sum_{i=1}^{N}\\sum_{k=1}^{K}y_{ik}\\log(h_k(x_i,\\theta))$$\n",
    "By minimizing the loss function above, we will get the maximum likelihood estimate(MLE) of the parameters $\\theta$\n",
    "$$ \\theta_{MLE}=argmin_{\\theta}L(\\theta)$$"
   ]
  }
 ],
 "metadata": {
  "anaconda-cloud": {},
  "kernelspec": {
   "display_name": "Python 3",
   "language": "python",
   "name": "python3"
  },
  "language_info": {
   "codemirror_mode": {
    "name": "ipython",
    "version": 3
   },
   "file_extension": ".py",
   "mimetype": "text/x-python",
   "name": "python",
   "nbconvert_exporter": "python",
   "pygments_lexer": "ipython3",
   "version": "3.6.5"
  }
 },
 "nbformat": 4,
 "nbformat_minor": 1
}
